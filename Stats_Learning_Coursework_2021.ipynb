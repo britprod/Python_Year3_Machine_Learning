{
 "cells": [
  {
   "cell_type": "markdown",
   "metadata": {
    "id": "ae8Gvzz478Ya"
   },
   "source": [
    "# Statistical Learning Coursework 2021 \n",
    "# <font color=\"red\">New Extended DEADLINE 21th May 2021 17:00</font>\n",
    "\n",
    "Files with data that have to be downloaded:\n",
    "\n",
    "- bank_notes.csv\n",
    "- avocado_data.csv\n",
    "\n"
   ]
  },
  {
   "cell_type": "markdown",
   "metadata": {
    "id": "AbxfXmQf7eUt"
   },
   "source": [
    "### INSTRUCTIONS\n",
    "- Answer both Problems 1 and 2, in problem 2 you may pick between 2.3 or 2.4. Only one of these is required.  \n",
    "- This is an INDIVIDUAL coursework\n",
    "- This must be all your own work.\n",
    "\n",
    "- Test your functions to ensure that they perform the required calculations correctly.\n",
    "\n",
    "- Functions that are unused/untested won’t gain full marks.\n",
    "\n",
    "- Functions that return syntax errors or other errors, won't get more than 2 marks. \n",
    "\n",
    "- Give variables and functions meaningful names.\n",
    "\n",
    "- Make your code clear.\n",
    "\n",
    "- Bracket expressions only where needed; try not use extra redundant brackets.\n",
    "\n",
    "- You may choose to split large tasks or functions into\n",
    "smaller pieces, each of which performs a well-defined part of the\n",
    "calculation.  (However, don't overdo this!  Only introduce smaller\n",
    "functions if they perform a well-defined task and make the program\n",
    "clearer.)\n",
    "\n",
    "- Where appropriate, you should always **use** functions\n",
    "that you have already defined earlier in your answers, to help with\n",
    "later questions, rather than duplicating code.\n",
    "\n",
    "- You can use functions that you made in the lab sessions.\n",
    "\n",
    "- Your answers will be check against Python plagiarism library (https://pypi.org/project/plagiarism/) ensure that you do the work yourself! \n",
    "\n",
    "- If your code is non-standard using techniques beyond the course, you may be asked to explain all the used non-standard functions in an individual meeting to verify that you have written the solution.  \n",
    "\n",
    "- Where explanations are required, type them as clear comments in code cells.\n",
    "\n",
    "- Coursework submission will be electronic: on the Moodle page."
   ]
  },
  {
   "cell_type": "markdown",
   "metadata": {
    "id": "1WCS-AAWBhvF"
   },
   "source": [
    "### Please evaluate both below lines with __Shift+Enter__"
   ]
  },
  {
   "cell_type": "markdown",
   "metadata": {
    "id": "swqayu9P78Yg"
   },
   "source": [
    "### You may find the following imported libaries and functions useful (but you may need to import additional ones)"
   ]
  },
  {
   "cell_type": "code",
   "execution_count": 1,
   "metadata": {
    "id": "hZc_SKRn78Yg"
   },
   "outputs": [],
   "source": [
    "#from google.colab import files\n",
    "import numpy as np\n",
    "import pandas as pd\n",
    "import matplotlib.pyplot as plt\n",
    "\n",
    "# spliting data into train, test sets\n",
    "from sklearn.model_selection import train_test_split\n",
    "\n",
    "#preprocessing our data set \n",
    "from sklearn.preprocessing import StandardScaler\n",
    "\n",
    "## Cross validation\n",
    "from sklearn.model_selection import KFold\n",
    "from sklearn.model_selection import cross_val_score\n",
    "from sklearn.model_selection import cross_validate\n",
    "from sklearn.model_selection import RandomizedSearchCV\n",
    "\n",
    "# Classification\n",
    "from sklearn.tree import DecisionTreeClassifier\n",
    "from sklearn.linear_model import LogisticRegression\n",
    "from sklearn.neighbors import KNeighborsClassifier\n",
    "\n",
    "## Feature Selection RFE\n",
    "from sklearn.feature_selection import RFE\n",
    "from sklearn.feature_selection import RFECV\n",
    "\n",
    "## Regression\n",
    "from sklearn.linear_model import LinearRegression\n",
    "from sklearn.linear_model import Lasso\n",
    "from sklearn.linear_model import LassoCV\n",
    "from sklearn.ensemble import RandomForestRegressor\n",
    "\n",
    "#Decision Tree regressor\n",
    "from sklearn.tree import DecisionTreeRegressor\n",
    "\n",
    "## Isolation Forest\n",
    "from sklearn.ensemble import IsolationForest\n",
    "\n",
    "# metrics\n",
    "from sklearn.metrics import mean_squared_error, r2_score"
   ]
  },
  {
   "cell_type": "markdown",
   "metadata": {
    "id": "rp9D6p8YV2HX"
   },
   "source": [
    "### STUDENT REFERENCE NUMBER\n",
    "\n",
    "Type your 6-digit student reference number in place of `xxxxxx` in the following cell:"
   ]
  },
  {
   "cell_type": "code",
   "execution_count": 2,
   "metadata": {
    "id": "kIuTpKryV2HY",
    "tags": [
     "student_id"
    ]
   },
   "outputs": [],
   "source": [
    "# 902897"
   ]
  },
  {
   "cell_type": "markdown",
   "metadata": {
    "id": "SONxZT6s78Yh"
   },
   "source": [
    "Coursework questions deal with the detection of __forged bank notes__ and the prediction of __avocado prices__."
   ]
  },
  {
   "cell_type": "markdown",
   "metadata": {
    "id": "5rAdIciC8gEY"
   },
   "source": [
    "## The following problem requires the bank_notes.csv dataset.\n",
    "\n",
    "# Problem 1 (forged bank notes)\n",
    "\n"
   ]
  },
  {
   "cell_type": "markdown",
   "metadata": {
    "id": "oHRvU54RJRcz"
   },
   "source": [
    "### 1.1 (15 marks)\n",
    "  1. (1 mark) Load the __\"bank_notes.csv\"__ file in to a pandas DataFrame. The __response/target__ variable is contained in the \"Forged\" column (0=real, 1=fake), and the other two columns, (\"Variance\" and \"Skewness\") are __predictors__. These are features extracted from the Wavelet Transform of digitized images of real and forged bank notes. \n",
    "  2. (1 mark) Split your data frame into  predictors $X$  and responses  $y$.\n",
    "  3. (4 marks) **Plot** a scatter graph of the predictor values where points are coloured according to their $y$ value.\n",
    "  4. (1 mark) Split  $X$  and  $y$  into __X_train, X_test, y_train, y_test__ where $20\\%$ of the data is for testing.\n",
    "  5. (4 marks) Fit a standard __logistic regression classifier__ to the training data and compute the test error.\n",
    "  6. (4 marks) Add the logistic regression decision boundary to your scatter plot. \n"
   ]
  },
  {
   "cell_type": "code",
   "execution_count": 3,
   "metadata": {
    "id": "oO30JvMCHlbp"
   },
   "outputs": [
    {
     "data": {
      "text/html": [
       "<div>\n",
       "<style scoped>\n",
       "    .dataframe tbody tr th:only-of-type {\n",
       "        vertical-align: middle;\n",
       "    }\n",
       "\n",
       "    .dataframe tbody tr th {\n",
       "        vertical-align: top;\n",
       "    }\n",
       "\n",
       "    .dataframe thead th {\n",
       "        text-align: right;\n",
       "    }\n",
       "</style>\n",
       "<table border=\"1\" class=\"dataframe\">\n",
       "  <thead>\n",
       "    <tr style=\"text-align: right;\">\n",
       "      <th></th>\n",
       "      <th>Variance</th>\n",
       "      <th>Skewness</th>\n",
       "      <th>Forged</th>\n",
       "    </tr>\n",
       "  </thead>\n",
       "  <tbody>\n",
       "    <tr>\n",
       "      <th>0</th>\n",
       "      <td>3.62160</td>\n",
       "      <td>8.6661</td>\n",
       "      <td>0</td>\n",
       "    </tr>\n",
       "    <tr>\n",
       "      <th>1</th>\n",
       "      <td>4.54590</td>\n",
       "      <td>8.1674</td>\n",
       "      <td>0</td>\n",
       "    </tr>\n",
       "    <tr>\n",
       "      <th>2</th>\n",
       "      <td>3.86600</td>\n",
       "      <td>-2.6383</td>\n",
       "      <td>0</td>\n",
       "    </tr>\n",
       "    <tr>\n",
       "      <th>3</th>\n",
       "      <td>3.45660</td>\n",
       "      <td>9.5228</td>\n",
       "      <td>0</td>\n",
       "    </tr>\n",
       "    <tr>\n",
       "      <th>4</th>\n",
       "      <td>0.32924</td>\n",
       "      <td>-4.4552</td>\n",
       "      <td>0</td>\n",
       "    </tr>\n",
       "  </tbody>\n",
       "</table>\n",
       "</div>"
      ],
      "text/plain": [
       "   Variance  Skewness  Forged\n",
       "0   3.62160    8.6661       0\n",
       "1   4.54590    8.1674       0\n",
       "2   3.86600   -2.6383       0\n",
       "3   3.45660    9.5228       0\n",
       "4   0.32924   -4.4552       0"
      ]
     },
     "execution_count": 3,
     "metadata": {},
     "output_type": "execute_result"
    }
   ],
   "source": [
    "#1\n",
    "df_bnotes = pd.read_csv('bank_notes.csv')# used Anaconda, .csv files in the same folder as coursework .ipynb file\n",
    "df_bnotes.head()"
   ]
  },
  {
   "cell_type": "code",
   "execution_count": 4,
   "metadata": {},
   "outputs": [
    {
     "data": {
      "text/html": [
       "<div>\n",
       "<style scoped>\n",
       "    .dataframe tbody tr th:only-of-type {\n",
       "        vertical-align: middle;\n",
       "    }\n",
       "\n",
       "    .dataframe tbody tr th {\n",
       "        vertical-align: top;\n",
       "    }\n",
       "\n",
       "    .dataframe thead th {\n",
       "        text-align: right;\n",
       "    }\n",
       "</style>\n",
       "<table border=\"1\" class=\"dataframe\">\n",
       "  <thead>\n",
       "    <tr style=\"text-align: right;\">\n",
       "      <th></th>\n",
       "      <th>Variance</th>\n",
       "      <th>Skewness</th>\n",
       "    </tr>\n",
       "  </thead>\n",
       "  <tbody>\n",
       "    <tr>\n",
       "      <th>0</th>\n",
       "      <td>3.62160</td>\n",
       "      <td>8.6661</td>\n",
       "    </tr>\n",
       "    <tr>\n",
       "      <th>1</th>\n",
       "      <td>4.54590</td>\n",
       "      <td>8.1674</td>\n",
       "    </tr>\n",
       "    <tr>\n",
       "      <th>2</th>\n",
       "      <td>3.86600</td>\n",
       "      <td>-2.6383</td>\n",
       "    </tr>\n",
       "    <tr>\n",
       "      <th>3</th>\n",
       "      <td>3.45660</td>\n",
       "      <td>9.5228</td>\n",
       "    </tr>\n",
       "    <tr>\n",
       "      <th>4</th>\n",
       "      <td>0.32924</td>\n",
       "      <td>-4.4552</td>\n",
       "    </tr>\n",
       "  </tbody>\n",
       "</table>\n",
       "</div>"
      ],
      "text/plain": [
       "   Variance  Skewness\n",
       "0   3.62160    8.6661\n",
       "1   4.54590    8.1674\n",
       "2   3.86600   -2.6383\n",
       "3   3.45660    9.5228\n",
       "4   0.32924   -4.4552"
      ]
     },
     "metadata": {},
     "output_type": "display_data"
    },
    {
     "data": {
      "text/plain": [
       "0    0\n",
       "1    0\n",
       "2    0\n",
       "3    0\n",
       "4    0\n",
       "Name: Forged, dtype: int64"
      ]
     },
     "metadata": {},
     "output_type": "display_data"
    }
   ],
   "source": [
    "#2\n",
    "X = df_bnotes[['Variance', 'Skewness']]# we ensured that X is still a data frame\n",
    "y = df_bnotes['Forged']# Y can be a pd.Series\n",
    "display(X.head(), y.head())"
   ]
  },
  {
   "cell_type": "code",
   "execution_count": 5,
   "metadata": {},
   "outputs": [
    {
     "data": {
      "image/png": "[encoded data removed]",
      "text/plain": [
       "<Figure size 432x288 with 1 Axes>"
      ]
     },
     "metadata": {
      "needs_background": "light"
     },
     "output_type": "display_data"
    }
   ],
   "source": [
    "#3\n",
    "#Scatter plot using Blue-Red color scheme, Blue=0 and Red=1\n",
    "plt.scatter(df_bnotes['Variance'],df_bnotes['Skewness'],c = df_bnotes['Forged'],cmap='bwr', s=5, alpha=0.5)\n",
    "plt.xlabel('Variance',size=10)\n",
    "plt.ylabel('Skewness',size=10)\n",
    "plt.xticks(fontsize=8)\n",
    "plt.yticks(fontsize=8)\n",
    "plt.title('Bank Notes Data',size=16)\n",
    "plt.show()"
   ]
  },
  {
   "cell_type": "code",
   "execution_count": 6,
   "metadata": {},
   "outputs": [
    {
     "data": {
      "text/plain": [
       "((1097, 2), (275, 2), (1097,), (275,))"
      ]
     },
     "execution_count": 6,
     "metadata": {},
     "output_type": "execute_result"
    }
   ],
   "source": [
    "#4\n",
    "X_train, X_test, y_train, y_test = train_test_split(X, y, random_state=0, test_size=0.2)#splits data\n",
    "X_train.shape, X_test.shape, y_train.shape, y_test.shape # to check shape"
   ]
  },
  {
   "cell_type": "code",
   "execution_count": 7,
   "metadata": {},
   "outputs": [
    {
     "name": "stdout",
     "output_type": "stream",
     "text": [
      "Test Error =  0.11636363636363636\n"
     ]
    }
   ],
   "source": [
    "#5\n",
    "LR = LogisticRegression(random_state=0)#Create logistic regression object\n",
    "LR.fit(X_train, y_train)#Fit model to data\n",
    "# Test error\n",
    "y_pred = LR.predict(X_test)\n",
    "Err = (y_test!=y_pred).mean()\n",
    "print('Test Error = ', Err)"
   ]
  },
  {
   "cell_type": "code",
   "execution_count": 8,
   "metadata": {},
   "outputs": [
    {
     "data": {
      "image/png": "[encoded data removed]",
      "text/plain": [
       "<Figure size 432x288 with 1 Axes>"
      ]
     },
     "metadata": {
      "needs_background": "light"
     },
     "output_type": "display_data"
    }
   ],
   "source": [
    "#6\n",
    "# Logistic function\n",
    "def p(beta0,beta1,beta2,x1,x2):\n",
    "    u = np.exp(beta0 + beta1*x1 + beta2*x2)\n",
    "    return u/(1+u)\n",
    "\n",
    "#Logistic model - logit(p(x))=B_0+B_1*X1+B_2*X2\n",
    "beta0 = LR.intercept_[0]\n",
    "beta1 = LR.coef_[0,0]\n",
    "beta2 = LR.coef_[0,1]\n",
    "\n",
    "x1s = np.linspace(-8,8,100)\n",
    "dec_bnd = -(beta0+beta1*x1s)/beta2# logit(p(x))=ln(0.5/0.5)=0\n",
    "plt.plot(x1s, dec_bnd, c = 'g')\n",
    "plt.scatter(df_bnotes['Variance'],df_bnotes['Skewness'],c = df_bnotes['Forged'],cmap='bwr', s=5, alpha=0.5)\n",
    "plt.xlabel('Variance',size=10)\n",
    "plt.ylabel('Skewness',size=10)\n",
    "plt.xticks(fontsize=8)\n",
    "plt.yticks(fontsize=8)\n",
    "plt.title('Bank Notes Data',size=16)\n",
    "plt.show()"
   ]
  },
  {
   "cell_type": "markdown",
   "metadata": {
    "id": "qg_AEq13Hjw_"
   },
   "source": [
    "### 1.2 (15 marks)\n",
    "  1. (8 marks) Using a for loop with $k=1,2,3,\\ldots,10$, fit a $k$ nearest neighbours classifier to your training data, and calculate the test error. In the same loop, for each $k$, calculate the 200-fold cross-validation error  using the full dataset. Print out both errors at each loop, and store them in two separate lists called __test_errs__ and __cv_errs__.\n",
    "  2. (4 marks) On a single graph, plot your two error lists against the $k$ values used to generate them. What is the optimal choice of $k$?\n",
    "  3. (3 marks) Explain what competing factors determine the optimal choice of $k$, and comment on any differences you see between the test error plot and the cross validation error plot. "
   ]
  },
  {
   "cell_type": "code",
   "execution_count": 9,
   "metadata": {
    "id": "Sk9rBFOs8l53"
   },
   "outputs": [
    {
     "name": "stdout",
     "output_type": "stream",
     "text": [
      "k = 1 test_err = 0.06181818181818182 cv_err = 0.06142857142857139\n",
      "k = 2 test_err = 0.06181818181818182 cv_err = 0.06321428571428556\n",
      "k = 3 test_err = 0.05454545454545454 cv_err = 0.05095238095238086\n",
      "k = 4 test_err = 0.05454545454545454 cv_err = 0.05380952380952364\n",
      "k = 5 test_err = 0.05818181818181818 cv_err = 0.05452380952380953\n",
      "k = 6 test_err = 0.05818181818181818 cv_err = 0.06047619047619035\n",
      "k = 7 test_err = 0.05818181818181818 cv_err = 0.05952380952380931\n",
      "k = 8 test_err = 0.06181818181818182 cv_err = 0.062380952380952426\n",
      "k = 9 test_err = 0.05818181818181818 cv_err = 0.0697619047619048\n",
      "k = 10 test_err = 0.06545454545454546 cv_err = 0.06761904761904758\n"
     ]
    }
   ],
   "source": [
    "#1\n",
    "test_errs = []#empty lists\n",
    "cv_errs = []\n",
    "for k in range(1,11):#loop for k=1,...,10\n",
    "    kNN = KNeighborsClassifier(n_neighbors = k)#KNN classifier object with for each k\n",
    "    kNN.fit(X_train, y_train)#Fit model to data\n",
    "    test_errs.append(np.mean(kNN.predict(X_test)!=y_test))#appends list, average of y_test_prediction not equal to y_test(error)\n",
    "    cv_results = cross_validate(kNN, X, y, cv = 200)#Cross validation, 200 folds\n",
    "    cv_errs.append(1 - cv_results['test_score'].mean())#appends list, cross validation error\n",
    "    print ('k =',k,'test_err =',test_errs[k-1],'cv_err =',cv_errs[k-1])"
   ]
  },
  {
   "cell_type": "code",
   "execution_count": 10,
   "metadata": {},
   "outputs": [
    {
     "data": {
      "text/plain": [
       "<function matplotlib.pyplot.show(*args, **kw)>"
      ]
     },
     "execution_count": 10,
     "metadata": {},
     "output_type": "execute_result"
    },
    {
     "data": {
      "image/png": "[encoded data removed]",
      "text/plain": [
       "<Figure size 432x288 with 1 Axes>"
      ]
     },
     "metadata": {
      "needs_background": "light"
     },
     "output_type": "display_data"
    }
   ],
   "source": [
    "#2\n",
    "k_vals = np.arange(1,11)\n",
    "plt.plot(k_vals, test_errs, c = 'g')\n",
    "plt.plot(k_vals, cv_errs, c = 'y')\n",
    "plt.xlabel('k',size=12)\n",
    "plt.ylabel('Error Rate',size=12)\n",
    "plt.legend(['kNN','CV'])\n",
    "plt.show"
   ]
  },
  {
   "cell_type": "code",
   "execution_count": 11,
   "metadata": {},
   "outputs": [],
   "source": [
    "#3\n",
    "# The optimal choice of k is 3. It is determined by simplicity(low variance) and flexibility(low bias)of our model.\n",
    "# We need to balance them to prevent overfitting or underfitting the training data to minimse the test error. \n",
    "# The both graphs have classical u-shape but for optimal k CV graph has lower error. Also, kNN has same \n",
    "# error accross few different values of k, this is due fact we test it once for each k on test data. In CV we test it \n",
    "# on 200 folds and take a mean error for each k. "
   ]
  },
  {
   "cell_type": "markdown",
   "metadata": {
    "id": "Xxae5jYY2-T6"
   },
   "source": [
    "## The following problem requires the avocado_data.csv dataset.\n",
    "\n",
    "# Problem 2 (Avocado prices)"
   ]
  },
  {
   "cell_type": "markdown",
   "metadata": {
    "id": "iPIQhIW12_jD"
   },
   "source": [
    "### 2.1. (10 marks)\n",
    "  1. (1 mark) Load the __\"avocado_data.csv\"__ file in to a pandas DataFrame. The __response/target__ variable is contained in the `Price' column, and all other columns are __predictors/features__.\n",
    "  2. (1 mark) Split your data frame into  $X$  and  $y$, and make sure that you include only the columns with numerical values.\n",
    "  3. (1 mark) Split  $X$  and  $y$  into __X_train, X_test, y_train, y_test__.\n",
    "  4. (2 mark) **Plot** some predictors versus the price in a way you find the most convinient.\n",
    "  5. (3 mark) Fit a standard __multilinear regression model__ which uses all the predictors/features.\n",
    "  6. (2 mark) Use your training and test data set to make predictions, find the corresponding $R^2$  and  $MSE$  scores by comparing your predictions with y_train and y_test, respectively. "
   ]
  },
  {
   "cell_type": "code",
   "execution_count": 12,
   "metadata": {
    "id": "agAH9V05BSVB"
   },
   "outputs": [
    {
     "data": {
      "text/html": [
       "<div>\n",
       "<style scoped>\n",
       "    .dataframe tbody tr th:only-of-type {\n",
       "        vertical-align: middle;\n",
       "    }\n",
       "\n",
       "    .dataframe tbody tr th {\n",
       "        vertical-align: top;\n",
       "    }\n",
       "\n",
       "    .dataframe thead th {\n",
       "        text-align: right;\n",
       "    }\n",
       "</style>\n",
       "<table border=\"1\" class=\"dataframe\">\n",
       "  <thead>\n",
       "    <tr style=\"text-align: right;\">\n",
       "      <th></th>\n",
       "      <th>Date</th>\n",
       "      <th>Total Volume</th>\n",
       "      <th>PLU 4046 sold</th>\n",
       "      <th>PLU 4225 sold</th>\n",
       "      <th>PLU 4770 sold</th>\n",
       "      <th>Total Bags</th>\n",
       "      <th>Small Bags</th>\n",
       "      <th>Large Bags</th>\n",
       "      <th>XLarge Bags</th>\n",
       "      <th>type</th>\n",
       "      <th>type numeric</th>\n",
       "      <th>year</th>\n",
       "      <th>region</th>\n",
       "      <th>region numeric</th>\n",
       "      <th>Price</th>\n",
       "    </tr>\n",
       "  </thead>\n",
       "  <tbody>\n",
       "    <tr>\n",
       "      <th>0</th>\n",
       "      <td>27/12/2015</td>\n",
       "      <td>64236.62</td>\n",
       "      <td>1036.74</td>\n",
       "      <td>54454.85</td>\n",
       "      <td>48.16</td>\n",
       "      <td>8696.87</td>\n",
       "      <td>8603.62</td>\n",
       "      <td>93.25</td>\n",
       "      <td>0.0</td>\n",
       "      <td>conventional</td>\n",
       "      <td>0</td>\n",
       "      <td>2015</td>\n",
       "      <td>Albany</td>\n",
       "      <td>0</td>\n",
       "      <td>1.33</td>\n",
       "    </tr>\n",
       "    <tr>\n",
       "      <th>1</th>\n",
       "      <td>20/12/2015</td>\n",
       "      <td>54876.98</td>\n",
       "      <td>674.28</td>\n",
       "      <td>44638.81</td>\n",
       "      <td>58.33</td>\n",
       "      <td>9505.56</td>\n",
       "      <td>9408.07</td>\n",
       "      <td>97.49</td>\n",
       "      <td>0.0</td>\n",
       "      <td>conventional</td>\n",
       "      <td>0</td>\n",
       "      <td>2015</td>\n",
       "      <td>Albany</td>\n",
       "      <td>0</td>\n",
       "      <td>1.35</td>\n",
       "    </tr>\n",
       "    <tr>\n",
       "      <th>2</th>\n",
       "      <td>13/12/2015</td>\n",
       "      <td>118220.22</td>\n",
       "      <td>794.70</td>\n",
       "      <td>109149.67</td>\n",
       "      <td>130.50</td>\n",
       "      <td>8145.35</td>\n",
       "      <td>8042.21</td>\n",
       "      <td>103.14</td>\n",
       "      <td>0.0</td>\n",
       "      <td>conventional</td>\n",
       "      <td>0</td>\n",
       "      <td>2015</td>\n",
       "      <td>Albany</td>\n",
       "      <td>0</td>\n",
       "      <td>0.93</td>\n",
       "    </tr>\n",
       "    <tr>\n",
       "      <th>3</th>\n",
       "      <td>06/12/2015</td>\n",
       "      <td>78992.15</td>\n",
       "      <td>1132.00</td>\n",
       "      <td>71976.41</td>\n",
       "      <td>72.58</td>\n",
       "      <td>5811.16</td>\n",
       "      <td>5677.40</td>\n",
       "      <td>133.76</td>\n",
       "      <td>0.0</td>\n",
       "      <td>conventional</td>\n",
       "      <td>0</td>\n",
       "      <td>2015</td>\n",
       "      <td>Albany</td>\n",
       "      <td>0</td>\n",
       "      <td>1.08</td>\n",
       "    </tr>\n",
       "    <tr>\n",
       "      <th>4</th>\n",
       "      <td>29/11/2015</td>\n",
       "      <td>51039.60</td>\n",
       "      <td>941.48</td>\n",
       "      <td>43838.39</td>\n",
       "      <td>75.78</td>\n",
       "      <td>6183.95</td>\n",
       "      <td>5986.26</td>\n",
       "      <td>197.69</td>\n",
       "      <td>0.0</td>\n",
       "      <td>conventional</td>\n",
       "      <td>0</td>\n",
       "      <td>2015</td>\n",
       "      <td>Albany</td>\n",
       "      <td>0</td>\n",
       "      <td>1.28</td>\n",
       "    </tr>\n",
       "  </tbody>\n",
       "</table>\n",
       "</div>"
      ],
      "text/plain": [
       "         Date  Total Volume  PLU 4046 sold  PLU 4225 sold  PLU 4770 sold  \\\n",
       "0  27/12/2015      64236.62        1036.74       54454.85          48.16   \n",
       "1  20/12/2015      54876.98         674.28       44638.81          58.33   \n",
       "2  13/12/2015     118220.22         794.70      109149.67         130.50   \n",
       "3  06/12/2015      78992.15        1132.00       71976.41          72.58   \n",
       "4  29/11/2015      51039.60         941.48       43838.39          75.78   \n",
       "\n",
       "   Total Bags  Small Bags  Large Bags  XLarge Bags          type  \\\n",
       "0     8696.87     8603.62       93.25          0.0  conventional   \n",
       "1     9505.56     9408.07       97.49          0.0  conventional   \n",
       "2     8145.35     8042.21      103.14          0.0  conventional   \n",
       "3     5811.16     5677.40      133.76          0.0  conventional   \n",
       "4     6183.95     5986.26      197.69          0.0  conventional   \n",
       "\n",
       "   type numeric  year  region  region numeric  Price  \n",
       "0             0  2015  Albany               0   1.33  \n",
       "1             0  2015  Albany               0   1.35  \n",
       "2             0  2015  Albany               0   0.93  \n",
       "3             0  2015  Albany               0   1.08  \n",
       "4             0  2015  Albany               0   1.28  "
      ]
     },
     "execution_count": 12,
     "metadata": {},
     "output_type": "execute_result"
    }
   ],
   "source": [
    "#1\n",
    "df_avoc = pd.read_csv('avocado_data.csv')\n",
    "df_avoc.head()"
   ]
  },
  {
   "cell_type": "code",
   "execution_count": 13,
   "metadata": {},
   "outputs": [
    {
     "data": {
      "text/html": [
       "<div>\n",
       "<style scoped>\n",
       "    .dataframe tbody tr th:only-of-type {\n",
       "        vertical-align: middle;\n",
       "    }\n",
       "\n",
       "    .dataframe tbody tr th {\n",
       "        vertical-align: top;\n",
       "    }\n",
       "\n",
       "    .dataframe thead th {\n",
       "        text-align: right;\n",
       "    }\n",
       "</style>\n",
       "<table border=\"1\" class=\"dataframe\">\n",
       "  <thead>\n",
       "    <tr style=\"text-align: right;\">\n",
       "      <th></th>\n",
       "      <th>Total Volume</th>\n",
       "      <th>PLU 4046 sold</th>\n",
       "      <th>PLU 4225 sold</th>\n",
       "      <th>PLU 4770 sold</th>\n",
       "      <th>Total Bags</th>\n",
       "      <th>Small Bags</th>\n",
       "      <th>Large Bags</th>\n",
       "      <th>XLarge Bags</th>\n",
       "      <th>type numeric</th>\n",
       "      <th>year</th>\n",
       "      <th>region numeric</th>\n",
       "    </tr>\n",
       "  </thead>\n",
       "  <tbody>\n",
       "    <tr>\n",
       "      <th>0</th>\n",
       "      <td>64236.62</td>\n",
       "      <td>1036.74</td>\n",
       "      <td>54454.85</td>\n",
       "      <td>48.16</td>\n",
       "      <td>8696.87</td>\n",
       "      <td>8603.62</td>\n",
       "      <td>93.25</td>\n",
       "      <td>0.0</td>\n",
       "      <td>0</td>\n",
       "      <td>2015</td>\n",
       "      <td>0</td>\n",
       "    </tr>\n",
       "    <tr>\n",
       "      <th>1</th>\n",
       "      <td>54876.98</td>\n",
       "      <td>674.28</td>\n",
       "      <td>44638.81</td>\n",
       "      <td>58.33</td>\n",
       "      <td>9505.56</td>\n",
       "      <td>9408.07</td>\n",
       "      <td>97.49</td>\n",
       "      <td>0.0</td>\n",
       "      <td>0</td>\n",
       "      <td>2015</td>\n",
       "      <td>0</td>\n",
       "    </tr>\n",
       "    <tr>\n",
       "      <th>2</th>\n",
       "      <td>118220.22</td>\n",
       "      <td>794.70</td>\n",
       "      <td>109149.67</td>\n",
       "      <td>130.50</td>\n",
       "      <td>8145.35</td>\n",
       "      <td>8042.21</td>\n",
       "      <td>103.14</td>\n",
       "      <td>0.0</td>\n",
       "      <td>0</td>\n",
       "      <td>2015</td>\n",
       "      <td>0</td>\n",
       "    </tr>\n",
       "    <tr>\n",
       "      <th>3</th>\n",
       "      <td>78992.15</td>\n",
       "      <td>1132.00</td>\n",
       "      <td>71976.41</td>\n",
       "      <td>72.58</td>\n",
       "      <td>5811.16</td>\n",
       "      <td>5677.40</td>\n",
       "      <td>133.76</td>\n",
       "      <td>0.0</td>\n",
       "      <td>0</td>\n",
       "      <td>2015</td>\n",
       "      <td>0</td>\n",
       "    </tr>\n",
       "    <tr>\n",
       "      <th>4</th>\n",
       "      <td>51039.60</td>\n",
       "      <td>941.48</td>\n",
       "      <td>43838.39</td>\n",
       "      <td>75.78</td>\n",
       "      <td>6183.95</td>\n",
       "      <td>5986.26</td>\n",
       "      <td>197.69</td>\n",
       "      <td>0.0</td>\n",
       "      <td>0</td>\n",
       "      <td>2015</td>\n",
       "      <td>0</td>\n",
       "    </tr>\n",
       "  </tbody>\n",
       "</table>\n",
       "</div>"
      ],
      "text/plain": [
       "   Total Volume  PLU 4046 sold  PLU 4225 sold  PLU 4770 sold  Total Bags  \\\n",
       "0      64236.62        1036.74       54454.85          48.16     8696.87   \n",
       "1      54876.98         674.28       44638.81          58.33     9505.56   \n",
       "2     118220.22         794.70      109149.67         130.50     8145.35   \n",
       "3      78992.15        1132.00       71976.41          72.58     5811.16   \n",
       "4      51039.60         941.48       43838.39          75.78     6183.95   \n",
       "\n",
       "   Small Bags  Large Bags  XLarge Bags  type numeric  year  region numeric  \n",
       "0     8603.62       93.25          0.0             0  2015               0  \n",
       "1     9408.07       97.49          0.0             0  2015               0  \n",
       "2     8042.21      103.14          0.0             0  2015               0  \n",
       "3     5677.40      133.76          0.0             0  2015               0  \n",
       "4     5986.26      197.69          0.0             0  2015               0  "
      ]
     },
     "metadata": {},
     "output_type": "display_data"
    },
    {
     "data": {
      "text/plain": [
       "0    1.33\n",
       "1    1.35\n",
       "2    0.93\n",
       "3    1.08\n",
       "4    1.28\n",
       "Name: Price, dtype: float64"
      ]
     },
     "metadata": {},
     "output_type": "display_data"
    }
   ],
   "source": [
    "#2\n",
    "X = df_avoc.iloc[:,:-1]# all except last column, pandas DataFrame\n",
    "y = df_avoc['Price']# pandas Series\n",
    "X = X.select_dtypes(['number'])#columns with numerical values\n",
    "display(X.head(), y.head())"
   ]
  },
  {
   "cell_type": "code",
   "execution_count": 14,
   "metadata": {},
   "outputs": [
    {
     "data": {
      "text/plain": [
       "((13686, 11), (4563, 11), (13686,), (4563,))"
      ]
     },
     "execution_count": 14,
     "metadata": {},
     "output_type": "execute_result"
    }
   ],
   "source": [
    "#3\n",
    "X_train, X_test, y_train, y_test = train_test_split(X, y, random_state=0)\n",
    "X_train.shape, X_test.shape, y_train.shape, y_test.shape"
   ]
  },
  {
   "cell_type": "code",
   "execution_count": 47,
   "metadata": {},
   "outputs": [
    {
     "data": {
      "text/plain": [
       "<function matplotlib.pyplot.show(*args, **kw)>"
      ]
     },
     "execution_count": 47,
     "metadata": {},
     "output_type": "execute_result"
    },
    {
     "data": {
      "image/png": "[encoded data removed]",
      "text/plain": [
       "<Figure size 432x288 with 2 Axes>"
      ]
     },
     "metadata": {
      "needs_background": "light"
     },
     "output_type": "display_data"
    },
    {
     "data": {
      "image/png": "[encoded data removed]",
      "text/plain": [
       "<Figure size 432x288 with 2 Axes>"
      ]
     },
     "metadata": {
      "needs_background": "light"
     },
     "output_type": "display_data"
    }
   ],
   "source": [
    "#4\n",
    "df_avoc.plot.scatter(x = 'Total Volume', y = 'Price',c = df_avoc['region numeric'], cmap='viridis')\n",
    "df_avoc.plot.scatter(x = 'Total Bags', y = 'Price',c = df_avoc['type numeric'], cmap='viridis')\n",
    "plt.show"
   ]
  },
  {
   "cell_type": "code",
   "execution_count": 16,
   "metadata": {},
   "outputs": [],
   "source": [
    "#5\n",
    "lm = LinearRegression()#Creating the model\n",
    "reg = lm.fit(X_train,y_train)# fitting multilinear regression model"
   ]
  },
  {
   "cell_type": "code",
   "execution_count": 17,
   "metadata": {},
   "outputs": [
    {
     "name": "stdout",
     "output_type": "stream",
     "text": [
      "R squared on train data set is 0.4066804940473987, R squared on test data set is 0.4055697163113966\n",
      "MSE on train data set is 0.09643951910200266, MSE on train data set is 0.09555534768756858\n"
     ]
    }
   ],
   "source": [
    "#6\n",
    "y_train_pred = reg.predict(X_train)#predicted y`s using model on x_train data\n",
    "y_test_pred = reg.predict(X_test)##predicted y`s using model on x_test data\n",
    "r2_train = r2_score(y_train, y_train_pred)#R squared on training data\n",
    "r2_test = r2_score(y_test, y_test_pred)#R squared on test data\n",
    "mse_train = mean_squared_error(y_train, y_train_pred)# Mean squared error on training data\n",
    "mse_test = mean_squared_error(y_test, y_test_pred)#Mean squared error on test data\n",
    "\n",
    "print(f\"R squared on train data set is {r2_train}, R squared on test data set is {r2_test}\")\n",
    "print(f\"MSE on train data set is {mse_train}, MSE on train data set is {mse_test}\")"
   ]
  },
  {
   "cell_type": "markdown",
   "metadata": {
    "id": "DNHSs-C83ESv"
   },
   "source": [
    "### 2.2. (25 marks)\n",
    "  1. (7 marks)  Fit a __Lasso model__ with __Cross Validation__ (CV), to find an optimal __alpha__ (regularisation parameter) (it may be a very small value). Preprocessing (meaning scaling to have 0 mean and unit variance) your data before the Lasso will be beneficial, you will need to generate X_train, X_test from the scaled X.\n",
    "\n",
    "  2.  (8 marks) Use __Recursive Feature Elimination (RFE)__ with CV that uses Lasso (with optimal alpha from 4.) as ranking estimator.\n",
    "  3.  (3 marks) Generate a plot __Number of features selected__ versus __Cross validation score R^2__.\n",
    "  4.  (7 marks)  Use the ranking of features from RFE to select only the ones with ranking 1. Your X_train and X_test should be modified to include only selected best features (with ranking 1)."
   ]
  },
  {
   "cell_type": "code",
   "execution_count": 18,
   "metadata": {},
   "outputs": [],
   "source": [
    "#1"
   ]
  },
  {
   "cell_type": "code",
   "execution_count": 19,
   "metadata": {
    "id": "ccadOseYBUTp"
   },
   "outputs": [
    {
     "name": "stdout",
     "output_type": "stream",
     "text": [
      "Mean of each of the feature [-0. -0. -0.  0.  0. -0. -0.  0.  0. -0. -0.]\n",
      "Variance of each of the feature [1. 1. 1. 1. 1. 1. 1. 1. 1. 1. 1.]\n"
     ]
    },
    {
     "data": {
      "text/html": [
       "<div>\n",
       "<style scoped>\n",
       "    .dataframe tbody tr th:only-of-type {\n",
       "        vertical-align: middle;\n",
       "    }\n",
       "\n",
       "    .dataframe tbody tr th {\n",
       "        vertical-align: top;\n",
       "    }\n",
       "\n",
       "    .dataframe thead th {\n",
       "        text-align: right;\n",
       "    }\n",
       "</style>\n",
       "<table border=\"1\" class=\"dataframe\">\n",
       "  <thead>\n",
       "    <tr style=\"text-align: right;\">\n",
       "      <th></th>\n",
       "      <th>0</th>\n",
       "      <th>1</th>\n",
       "      <th>2</th>\n",
       "      <th>3</th>\n",
       "      <th>4</th>\n",
       "      <th>5</th>\n",
       "      <th>6</th>\n",
       "      <th>7</th>\n",
       "      <th>8</th>\n",
       "      <th>9</th>\n",
       "      <th>10</th>\n",
       "    </tr>\n",
       "  </thead>\n",
       "  <tbody>\n",
       "    <tr>\n",
       "      <th>0</th>\n",
       "      <td>-0.227716</td>\n",
       "      <td>-0.230816</td>\n",
       "      <td>-0.199902</td>\n",
       "      <td>-0.212091</td>\n",
       "      <td>-0.234170</td>\n",
       "      <td>-0.232647</td>\n",
       "      <td>-0.222352</td>\n",
       "      <td>-0.17558</td>\n",
       "      <td>-0.999836</td>\n",
       "      <td>-1.221282</td>\n",
       "      <td>-1.700252</td>\n",
       "    </tr>\n",
       "    <tr>\n",
       "      <th>1</th>\n",
       "      <td>-0.230427</td>\n",
       "      <td>-0.231103</td>\n",
       "      <td>-0.208054</td>\n",
       "      <td>-0.211997</td>\n",
       "      <td>-0.233350</td>\n",
       "      <td>-0.231568</td>\n",
       "      <td>-0.222335</td>\n",
       "      <td>-0.17558</td>\n",
       "      <td>-0.999836</td>\n",
       "      <td>-1.221282</td>\n",
       "      <td>-1.700252</td>\n",
       "    </tr>\n",
       "    <tr>\n",
       "      <th>2</th>\n",
       "      <td>-0.212085</td>\n",
       "      <td>-0.231007</td>\n",
       "      <td>-0.154478</td>\n",
       "      <td>-0.211325</td>\n",
       "      <td>-0.234730</td>\n",
       "      <td>-0.233399</td>\n",
       "      <td>-0.222311</td>\n",
       "      <td>-0.17558</td>\n",
       "      <td>-0.999836</td>\n",
       "      <td>-1.221282</td>\n",
       "      <td>-1.700252</td>\n",
       "    </tr>\n",
       "    <tr>\n",
       "      <th>3</th>\n",
       "      <td>-0.223444</td>\n",
       "      <td>-0.230741</td>\n",
       "      <td>-0.185350</td>\n",
       "      <td>-0.211864</td>\n",
       "      <td>-0.237096</td>\n",
       "      <td>-0.236568</td>\n",
       "      <td>-0.222186</td>\n",
       "      <td>-0.17558</td>\n",
       "      <td>-0.999836</td>\n",
       "      <td>-1.221282</td>\n",
       "      <td>-1.700252</td>\n",
       "    </tr>\n",
       "    <tr>\n",
       "      <th>4</th>\n",
       "      <td>-0.231538</td>\n",
       "      <td>-0.230891</td>\n",
       "      <td>-0.208719</td>\n",
       "      <td>-0.211834</td>\n",
       "      <td>-0.236718</td>\n",
       "      <td>-0.236154</td>\n",
       "      <td>-0.221924</td>\n",
       "      <td>-0.17558</td>\n",
       "      <td>-0.999836</td>\n",
       "      <td>-1.221282</td>\n",
       "      <td>-1.700252</td>\n",
       "    </tr>\n",
       "  </tbody>\n",
       "</table>\n",
       "</div>"
      ],
      "text/plain": [
       "          0         1         2         3         4         5         6  \\\n",
       "0 -0.227716 -0.230816 -0.199902 -0.212091 -0.234170 -0.232647 -0.222352   \n",
       "1 -0.230427 -0.231103 -0.208054 -0.211997 -0.233350 -0.231568 -0.222335   \n",
       "2 -0.212085 -0.231007 -0.154478 -0.211325 -0.234730 -0.233399 -0.222311   \n",
       "3 -0.223444 -0.230741 -0.185350 -0.211864 -0.237096 -0.236568 -0.222186   \n",
       "4 -0.231538 -0.230891 -0.208719 -0.211834 -0.236718 -0.236154 -0.221924   \n",
       "\n",
       "         7         8         9        10  \n",
       "0 -0.17558 -0.999836 -1.221282 -1.700252  \n",
       "1 -0.17558 -0.999836 -1.221282 -1.700252  \n",
       "2 -0.17558 -0.999836 -1.221282 -1.700252  \n",
       "3 -0.17558 -0.999836 -1.221282 -1.700252  \n",
       "4 -0.17558 -0.999836 -1.221282 -1.700252  "
      ]
     },
     "execution_count": 19,
     "metadata": {},
     "output_type": "execute_result"
    }
   ],
   "source": [
    "#Standardising X\n",
    "scaler = StandardScaler()\n",
    "scaler.fit(X)\n",
    "X_stand = scaler.transform(X)\n",
    "#Test to show that mean of each predictor is zero, and variance is one\n",
    "X_stand_mean = np.mean(X_stand, axis=0)\n",
    "X_stand_var = np.var(X_stand, axis=0)\n",
    "print(f\"Mean of each of the feature {X_stand_mean.round(3)}\")#with rounding to 3 dp\n",
    "print(f\"Variance of each of the feature {X_stand_var}\")\n",
    "X_stand = pd.DataFrame(X_stand)# converts back to Dataframe\n",
    "X_stand.head()"
   ]
  },
  {
   "cell_type": "code",
   "execution_count": 20,
   "metadata": {},
   "outputs": [
    {
     "data": {
      "text/plain": [
       "((13686, 11), (4563, 11), (13686,), (4563,))"
      ]
     },
     "execution_count": 20,
     "metadata": {},
     "output_type": "execute_result"
    }
   ],
   "source": [
    "# splitting standardised X, and y to have same index on both\n",
    "X_train, X_test, y_train, y_test = train_test_split(X_stand, y, random_state=0)\n",
    "X_train.shape, X_test.shape, y_train.shape, y_test.shape"
   ]
  },
  {
   "cell_type": "code",
   "execution_count": 21,
   "metadata": {},
   "outputs": [
    {
     "data": {
      "text/plain": [
       "4e-05"
      ]
     },
     "execution_count": 21,
     "metadata": {},
     "output_type": "execute_result"
    }
   ],
   "source": [
    "# finding alpha\n",
    "my_alphas = np.arange(0.00001, 0.0001, 0.00001)\n",
    "modelCV = LassoCV(alphas=my_alphas, cv=5).fit(X_train, y_train)# Lasso model wit Cross Validation, 5 folds\n",
    "alpha = modelCV.alpha_\n",
    "alpha"
   ]
  },
  {
   "cell_type": "code",
   "execution_count": 22,
   "metadata": {},
   "outputs": [
    {
     "name": "stdout",
     "output_type": "stream",
     "text": [
      "Optimal number of features : 8\n"
     ]
    },
    {
     "data": {
      "text/plain": [
       "array([4, 1, 1, 1, 3, 1, 1, 1, 1, 1, 2])"
      ]
     },
     "execution_count": 22,
     "metadata": {},
     "output_type": "execute_result"
    }
   ],
   "source": [
    "#2\n",
    "estimator = Lasso(alpha=alpha)#using alpha from #1, Lasso as estimator\n",
    "min_features_to_select=1\n",
    "rfecv = RFECV(estimator=estimator, step=1, cv=KFold(5), scoring='r2', min_features_to_select=min_features_to_select)\n",
    "rfecv.fit(X_train, y_train)# fitting Recursive Feature Elimination with CV\n",
    "print(f\"Optimal number of features : {rfecv.n_features_}\")\n",
    "rfecv.ranking_"
   ]
  },
  {
   "cell_type": "code",
   "execution_count": 23,
   "metadata": {},
   "outputs": [],
   "source": [
    "# ones represent \"good features\""
   ]
  },
  {
   "cell_type": "code",
   "execution_count": 24,
   "metadata": {},
   "outputs": [
    {
     "data": {
      "image/png": "[encoded data removed]",
      "text/plain": [
       "<Figure size 432x288 with 1 Axes>"
      ]
     },
     "metadata": {
      "needs_background": "light"
     },
     "output_type": "display_data"
    }
   ],
   "source": [
    "#3\n",
    "plt.figure()\n",
    "plt.xlabel(\"Number of features selected\")\n",
    "plt.ylabel(\"Cross validation score R^2\")\n",
    "plt.plot(range(min_features_to_select, len(rfecv.grid_scores_) + min_features_to_select), rfecv.grid_scores_)\n",
    "plt.show()"
   ]
  },
  {
   "cell_type": "code",
   "execution_count": 25,
   "metadata": {},
   "outputs": [],
   "source": [
    "#4"
   ]
  },
  {
   "cell_type": "code",
   "execution_count": 26,
   "metadata": {},
   "outputs": [
    {
     "data": {
      "text/html": [
       "<div>\n",
       "<style scoped>\n",
       "    .dataframe tbody tr th:only-of-type {\n",
       "        vertical-align: middle;\n",
       "    }\n",
       "\n",
       "    .dataframe tbody tr th {\n",
       "        vertical-align: top;\n",
       "    }\n",
       "\n",
       "    .dataframe thead th {\n",
       "        text-align: right;\n",
       "    }\n",
       "</style>\n",
       "<table border=\"1\" class=\"dataframe\">\n",
       "  <thead>\n",
       "    <tr style=\"text-align: right;\">\n",
       "      <th></th>\n",
       "      <th>0</th>\n",
       "      <th>1</th>\n",
       "      <th>2</th>\n",
       "      <th>3</th>\n",
       "      <th>4</th>\n",
       "      <th>5</th>\n",
       "      <th>6</th>\n",
       "      <th>7</th>\n",
       "      <th>8</th>\n",
       "      <th>9</th>\n",
       "      <th>10</th>\n",
       "    </tr>\n",
       "  </thead>\n",
       "  <tbody>\n",
       "    <tr>\n",
       "      <th>3291</th>\n",
       "      <td>-0.169084</td>\n",
       "      <td>-0.227390</td>\n",
       "      <td>-0.143757</td>\n",
       "      <td>-0.197954</td>\n",
       "      <td>-0.103341</td>\n",
       "      <td>-0.205146</td>\n",
       "      <td>0.222093</td>\n",
       "      <td>-0.171058</td>\n",
       "      <td>-0.999836</td>\n",
       "      <td>-0.157353</td>\n",
       "      <td>-1.122713</td>\n",
       "    </tr>\n",
       "    <tr>\n",
       "      <th>313</th>\n",
       "      <td>1.113406</td>\n",
       "      <td>1.093789</td>\n",
       "      <td>1.036574</td>\n",
       "      <td>2.269193</td>\n",
       "      <td>0.983077</td>\n",
       "      <td>1.178717</td>\n",
       "      <td>0.337798</td>\n",
       "      <td>0.430020</td>\n",
       "      <td>-0.999836</td>\n",
       "      <td>-1.221282</td>\n",
       "      <td>-1.315226</td>\n",
       "    </tr>\n",
       "    <tr>\n",
       "      <th>15130</th>\n",
       "      <td>-0.243479</td>\n",
       "      <td>-0.231583</td>\n",
       "      <td>-0.241319</td>\n",
       "      <td>-0.210906</td>\n",
       "      <td>-0.237945</td>\n",
       "      <td>-0.237515</td>\n",
       "      <td>-0.222721</td>\n",
       "      <td>-0.175580</td>\n",
       "      <td>1.000164</td>\n",
       "      <td>0.906575</td>\n",
       "      <td>-1.251055</td>\n",
       "    </tr>\n",
       "    <tr>\n",
       "      <th>7238</th>\n",
       "      <td>-0.132434</td>\n",
       "      <td>-0.223623</td>\n",
       "      <td>0.016213</td>\n",
       "      <td>-0.192170</td>\n",
       "      <td>-0.175774</td>\n",
       "      <td>-0.198366</td>\n",
       "      <td>-0.091498</td>\n",
       "      <td>-0.170493</td>\n",
       "      <td>-0.999836</td>\n",
       "      <td>0.906575</td>\n",
       "      <td>0.224878</td>\n",
       "    </tr>\n",
       "    <tr>\n",
       "      <th>1595</th>\n",
       "      <td>-0.156008</td>\n",
       "      <td>-0.230085</td>\n",
       "      <td>-0.034542</td>\n",
       "      <td>-0.211799</td>\n",
       "      <td>-0.185926</td>\n",
       "      <td>-0.168779</td>\n",
       "      <td>-0.222664</td>\n",
       "      <td>-0.175580</td>\n",
       "      <td>-0.999836</td>\n",
       "      <td>-1.221282</td>\n",
       "      <td>0.224878</td>\n",
       "    </tr>\n",
       "  </tbody>\n",
       "</table>\n",
       "</div>"
      ],
      "text/plain": [
       "              0         1         2         3         4         5         6  \\\n",
       "3291  -0.169084 -0.227390 -0.143757 -0.197954 -0.103341 -0.205146  0.222093   \n",
       "313    1.113406  1.093789  1.036574  2.269193  0.983077  1.178717  0.337798   \n",
       "15130 -0.243479 -0.231583 -0.241319 -0.210906 -0.237945 -0.237515 -0.222721   \n",
       "7238  -0.132434 -0.223623  0.016213 -0.192170 -0.175774 -0.198366 -0.091498   \n",
       "1595  -0.156008 -0.230085 -0.034542 -0.211799 -0.185926 -0.168779 -0.222664   \n",
       "\n",
       "              7         8         9        10  \n",
       "3291  -0.171058 -0.999836 -0.157353 -1.122713  \n",
       "313    0.430020 -0.999836 -1.221282 -1.315226  \n",
       "15130 -0.175580  1.000164  0.906575 -1.251055  \n",
       "7238  -0.170493 -0.999836  0.906575  0.224878  \n",
       "1595  -0.175580 -0.999836 -1.221282  0.224878  "
      ]
     },
     "execution_count": 26,
     "metadata": {},
     "output_type": "execute_result"
    }
   ],
   "source": [
    "X_train.head()"
   ]
  },
  {
   "cell_type": "code",
   "execution_count": 27,
   "metadata": {},
   "outputs": [
    {
     "data": {
      "text/html": [
       "<div>\n",
       "<style scoped>\n",
       "    .dataframe tbody tr th:only-of-type {\n",
       "        vertical-align: middle;\n",
       "    }\n",
       "\n",
       "    .dataframe tbody tr th {\n",
       "        vertical-align: top;\n",
       "    }\n",
       "\n",
       "    .dataframe thead th {\n",
       "        text-align: right;\n",
       "    }\n",
       "</style>\n",
       "<table border=\"1\" class=\"dataframe\">\n",
       "  <thead>\n",
       "    <tr style=\"text-align: right;\">\n",
       "      <th></th>\n",
       "      <th>1</th>\n",
       "      <th>2</th>\n",
       "      <th>3</th>\n",
       "      <th>5</th>\n",
       "      <th>6</th>\n",
       "      <th>7</th>\n",
       "      <th>8</th>\n",
       "      <th>9</th>\n",
       "    </tr>\n",
       "  </thead>\n",
       "  <tbody>\n",
       "    <tr>\n",
       "      <th>3291</th>\n",
       "      <td>-0.227390</td>\n",
       "      <td>-0.143757</td>\n",
       "      <td>-0.197954</td>\n",
       "      <td>-0.205146</td>\n",
       "      <td>0.222093</td>\n",
       "      <td>-0.171058</td>\n",
       "      <td>-0.999836</td>\n",
       "      <td>-0.157353</td>\n",
       "    </tr>\n",
       "    <tr>\n",
       "      <th>313</th>\n",
       "      <td>1.093789</td>\n",
       "      <td>1.036574</td>\n",
       "      <td>2.269193</td>\n",
       "      <td>1.178717</td>\n",
       "      <td>0.337798</td>\n",
       "      <td>0.430020</td>\n",
       "      <td>-0.999836</td>\n",
       "      <td>-1.221282</td>\n",
       "    </tr>\n",
       "    <tr>\n",
       "      <th>15130</th>\n",
       "      <td>-0.231583</td>\n",
       "      <td>-0.241319</td>\n",
       "      <td>-0.210906</td>\n",
       "      <td>-0.237515</td>\n",
       "      <td>-0.222721</td>\n",
       "      <td>-0.175580</td>\n",
       "      <td>1.000164</td>\n",
       "      <td>0.906575</td>\n",
       "    </tr>\n",
       "    <tr>\n",
       "      <th>7238</th>\n",
       "      <td>-0.223623</td>\n",
       "      <td>0.016213</td>\n",
       "      <td>-0.192170</td>\n",
       "      <td>-0.198366</td>\n",
       "      <td>-0.091498</td>\n",
       "      <td>-0.170493</td>\n",
       "      <td>-0.999836</td>\n",
       "      <td>0.906575</td>\n",
       "    </tr>\n",
       "    <tr>\n",
       "      <th>1595</th>\n",
       "      <td>-0.230085</td>\n",
       "      <td>-0.034542</td>\n",
       "      <td>-0.211799</td>\n",
       "      <td>-0.168779</td>\n",
       "      <td>-0.222664</td>\n",
       "      <td>-0.175580</td>\n",
       "      <td>-0.999836</td>\n",
       "      <td>-1.221282</td>\n",
       "    </tr>\n",
       "  </tbody>\n",
       "</table>\n",
       "</div>"
      ],
      "text/plain": [
       "              1         2         3         5         6         7         8  \\\n",
       "3291  -0.227390 -0.143757 -0.197954 -0.205146  0.222093 -0.171058 -0.999836   \n",
       "313    1.093789  1.036574  2.269193  1.178717  0.337798  0.430020 -0.999836   \n",
       "15130 -0.231583 -0.241319 -0.210906 -0.237515 -0.222721 -0.175580  1.000164   \n",
       "7238  -0.223623  0.016213 -0.192170 -0.198366 -0.091498 -0.170493 -0.999836   \n",
       "1595  -0.230085 -0.034542 -0.211799 -0.168779 -0.222664 -0.175580 -0.999836   \n",
       "\n",
       "              9  \n",
       "3291  -0.157353  \n",
       "313   -1.221282  \n",
       "15130  0.906575  \n",
       "7238   0.906575  \n",
       "1595  -1.221282  "
      ]
     },
     "execution_count": 27,
     "metadata": {},
     "output_type": "execute_result"
    }
   ],
   "source": [
    "# using ranking from #2\n",
    "X_train = X_train.iloc[:,1:-1]# removes first and last column\n",
    "X_train.drop(X_train.columns[3],axis=1,inplace=True)# removes 4th column from remaining\n",
    "X_train.head()# 1st, 5th, and 11th removed (0,4,10)"
   ]
  },
  {
   "cell_type": "markdown",
   "metadata": {
    "id": "RTKRqvhT3JCh"
   },
   "source": [
    "### 2.3. (optional, choose either 2.3 or 2.4) (35 marks)\n",
    "  1. (6 marks) Convert X_train to pandas dataframe, y_train to pandas Series and reset their indices. Use __Isolation forest__ to eliminate 1% of outliers from your new X_train set (it is new after dropping irrelevant features in 5.). \n",
    "  2.  (4 marks) Fit a __decision tree__ with max depth set to $10$.\n",
    "  3.  (3 marks) Create a path of alpha-s to prepare your tree for __pruning__.\n",
    "  4.   (8 marks) For the obtained  alpha-s train each individual tree with max depth set to $10$. This may take some time about 2 minutes.\n",
    "  5.   (8 marks)  Produce the plot of Nodes/depth versus alpha and most importantly __the plot__ Accuracy vs alpha (generating this plot may take about 5-10 minutes). Pick the best alpha.\n",
    "  6.   (2 marks) Fit a decision tree with best alpha.\n",
    "  7.   (2 marks) Make prediction on train data set and test data,  and print the relevant  $MSE$ ,  $R^2$  scores.\n",
    "  8.   (2 marks) Make a comment on over-fitting, did your tree overfit? Compare the obtained scores in part 7. with the scores obtained from the Multilinear regression in 2.1 part 6. "
   ]
  },
  {
   "cell_type": "code",
   "execution_count": 28,
   "metadata": {},
   "outputs": [],
   "source": [
    "#1"
   ]
  },
  {
   "cell_type": "code",
   "execution_count": 29,
   "metadata": {
    "id": "R3Uym987BWKk"
   },
   "outputs": [
    {
     "data": {
      "text/plain": [
       "pandas.core.frame.DataFrame"
      ]
     },
     "execution_count": 29,
     "metadata": {},
     "output_type": "execute_result"
    }
   ],
   "source": [
    "type(X_train)# Converted in 2.2 1#"
   ]
  },
  {
   "cell_type": "code",
   "execution_count": 30,
   "metadata": {},
   "outputs": [
    {
     "data": {
      "text/plain": [
       "pandas.core.series.Series"
      ]
     },
     "execution_count": 30,
     "metadata": {},
     "output_type": "execute_result"
    }
   ],
   "source": [
    "type(y_train)# pandas Series from begining, see 2.1 2#, and  2.2 1# for splitting to y_train"
   ]
  },
  {
   "cell_type": "code",
   "execution_count": 31,
   "metadata": {},
   "outputs": [
    {
     "data": {
      "text/html": [
       "<div>\n",
       "<style scoped>\n",
       "    .dataframe tbody tr th:only-of-type {\n",
       "        vertical-align: middle;\n",
       "    }\n",
       "\n",
       "    .dataframe tbody tr th {\n",
       "        vertical-align: top;\n",
       "    }\n",
       "\n",
       "    .dataframe thead th {\n",
       "        text-align: right;\n",
       "    }\n",
       "</style>\n",
       "<table border=\"1\" class=\"dataframe\">\n",
       "  <thead>\n",
       "    <tr style=\"text-align: right;\">\n",
       "      <th></th>\n",
       "      <th>1</th>\n",
       "      <th>2</th>\n",
       "      <th>3</th>\n",
       "      <th>5</th>\n",
       "      <th>6</th>\n",
       "      <th>7</th>\n",
       "      <th>8</th>\n",
       "      <th>9</th>\n",
       "    </tr>\n",
       "  </thead>\n",
       "  <tbody>\n",
       "    <tr>\n",
       "      <th>0</th>\n",
       "      <td>-0.227390</td>\n",
       "      <td>-0.143757</td>\n",
       "      <td>-0.197954</td>\n",
       "      <td>-0.205146</td>\n",
       "      <td>0.222093</td>\n",
       "      <td>-0.171058</td>\n",
       "      <td>-0.999836</td>\n",
       "      <td>-0.157353</td>\n",
       "    </tr>\n",
       "    <tr>\n",
       "      <th>1</th>\n",
       "      <td>1.093789</td>\n",
       "      <td>1.036574</td>\n",
       "      <td>2.269193</td>\n",
       "      <td>1.178717</td>\n",
       "      <td>0.337798</td>\n",
       "      <td>0.430020</td>\n",
       "      <td>-0.999836</td>\n",
       "      <td>-1.221282</td>\n",
       "    </tr>\n",
       "    <tr>\n",
       "      <th>2</th>\n",
       "      <td>-0.231583</td>\n",
       "      <td>-0.241319</td>\n",
       "      <td>-0.210906</td>\n",
       "      <td>-0.237515</td>\n",
       "      <td>-0.222721</td>\n",
       "      <td>-0.175580</td>\n",
       "      <td>1.000164</td>\n",
       "      <td>0.906575</td>\n",
       "    </tr>\n",
       "    <tr>\n",
       "      <th>3</th>\n",
       "      <td>-0.223623</td>\n",
       "      <td>0.016213</td>\n",
       "      <td>-0.192170</td>\n",
       "      <td>-0.198366</td>\n",
       "      <td>-0.091498</td>\n",
       "      <td>-0.170493</td>\n",
       "      <td>-0.999836</td>\n",
       "      <td>0.906575</td>\n",
       "    </tr>\n",
       "    <tr>\n",
       "      <th>4</th>\n",
       "      <td>-0.230085</td>\n",
       "      <td>-0.034542</td>\n",
       "      <td>-0.211799</td>\n",
       "      <td>-0.168779</td>\n",
       "      <td>-0.222664</td>\n",
       "      <td>-0.175580</td>\n",
       "      <td>-0.999836</td>\n",
       "      <td>-1.221282</td>\n",
       "    </tr>\n",
       "  </tbody>\n",
       "</table>\n",
       "</div>"
      ],
      "text/plain": [
       "          1         2         3         5         6         7         8  \\\n",
       "0 -0.227390 -0.143757 -0.197954 -0.205146  0.222093 -0.171058 -0.999836   \n",
       "1  1.093789  1.036574  2.269193  1.178717  0.337798  0.430020 -0.999836   \n",
       "2 -0.231583 -0.241319 -0.210906 -0.237515 -0.222721 -0.175580  1.000164   \n",
       "3 -0.223623  0.016213 -0.192170 -0.198366 -0.091498 -0.170493 -0.999836   \n",
       "4 -0.230085 -0.034542 -0.211799 -0.168779 -0.222664 -0.175580 -0.999836   \n",
       "\n",
       "          9  \n",
       "0 -0.157353  \n",
       "1 -1.221282  \n",
       "2  0.906575  \n",
       "3  0.906575  \n",
       "4 -1.221282  "
      ]
     },
     "metadata": {},
     "output_type": "display_data"
    },
    {
     "data": {
      "text/plain": [
       "0    1.04\n",
       "1    0.94\n",
       "2    2.83\n",
       "3    1.54\n",
       "4    1.24\n",
       "Name: Price, dtype: float64"
      ]
     },
     "metadata": {},
     "output_type": "display_data"
    }
   ],
   "source": [
    "# Reseting index\n",
    "X_train.reset_index(drop=True, inplace=True)\n",
    "y_train.reset_index(drop=True, inplace=True)\n",
    "display(X_train.head(), y_train.head())"
   ]
  },
  {
   "cell_type": "code",
   "execution_count": 32,
   "metadata": {},
   "outputs": [
    {
     "name": "stdout",
     "output_type": "stream",
     "text": [
      "Number of outliers is 137 out of 13686 in X_train\n",
      "which is 1.0 % of the X_train\n"
     ]
    }
   ],
   "source": [
    "# using Isolation forest tp identify outliers\n",
    "clf = IsolationForest(contamination=0.01).fit(X_train)# contamination = percantage of outliers to identify/100\n",
    "whole_list_with_outliers = clf.predict(X_train)\n",
    "outliers_ind = np.where(whole_list_with_outliers==-1)[0]# list of outliers indices\n",
    "print(f\"Number of outliers is {outliers_ind.size} out of {X_train.shape[0]} in X_train\")\n",
    "print(f\"which is {np.round(outliers_ind.size/X_train.shape[0] * 100)} % of the X_train\") "
   ]
  },
  {
   "cell_type": "code",
   "execution_count": 33,
   "metadata": {},
   "outputs": [
    {
     "data": {
      "text/plain": [
       "((13686, 8), (13686,))"
      ]
     },
     "execution_count": 33,
     "metadata": {},
     "output_type": "execute_result"
    }
   ],
   "source": [
    "X_train.shape, y_train.shape"
   ]
  },
  {
   "cell_type": "code",
   "execution_count": 34,
   "metadata": {},
   "outputs": [
    {
     "data": {
      "text/plain": [
       "((13549, 8), (13549,))"
      ]
     },
     "execution_count": 34,
     "metadata": {},
     "output_type": "execute_result"
    }
   ],
   "source": [
    "#Eliminating outliers\n",
    "X_train = X_train.drop(outliers_ind)\n",
    "y_train = y_train.drop(outliers_ind)\n",
    "X_train.shape, y_train.shape"
   ]
  },
  {
   "cell_type": "code",
   "execution_count": 35,
   "metadata": {},
   "outputs": [
    {
     "data": {
      "text/plain": [
       "DecisionTreeRegressor(max_depth=10, random_state=0)"
      ]
     },
     "execution_count": 35,
     "metadata": {},
     "output_type": "execute_result"
    }
   ],
   "source": [
    "#2\n",
    "reg = DecisionTreeRegressor(criterion=\"mse\", random_state=0, max_depth=10)\n",
    "reg.fit(X_train, y_train)"
   ]
  },
  {
   "cell_type": "code",
   "execution_count": 36,
   "metadata": {},
   "outputs": [],
   "source": [
    "#3\n",
    "path = reg.cost_complexity_pruning_path(X_train, y_train)\n",
    "ccp_alphas = path.ccp_alphas"
   ]
  },
  {
   "cell_type": "code",
   "execution_count": 37,
   "metadata": {},
   "outputs": [
    {
     "name": "stdout",
     "output_type": "stream",
     "text": [
      "Number of nodes in the last tree is: 1 with ccp_alpha: 0.06129317407611043\n"
     ]
    }
   ],
   "source": [
    "#4\n",
    "regs = []\n",
    "for ccp_alpha in ccp_alphas:\n",
    "    reg = DecisionTreeRegressor(criterion=\"mse\", random_state=0, ccp_alpha=ccp_alpha, max_depth=10)\n",
    "    reg.fit(X_train, y_train)\n",
    "    regs.append(reg)\n",
    "\n",
    "node_count = regs[-1].tree_.node_count\n",
    "ccp = ccp_alphas[-1]\n",
    "print(f\"Number of nodes in the last tree is: {node_count} with ccp_alpha: {ccp}\")"
   ]
  },
  {
   "cell_type": "code",
   "execution_count": 38,
   "metadata": {},
   "outputs": [],
   "source": [
    "#5"
   ]
  },
  {
   "cell_type": "code",
   "execution_count": 39,
   "metadata": {},
   "outputs": [
    {
     "data": {
      "image/png": "[encoded data removed]",
      "text/plain": [
       "<Figure size 720x720 with 2 Axes>"
      ]
     },
     "metadata": {
      "needs_background": "light"
     },
     "output_type": "display_data"
    }
   ],
   "source": [
    "#Nodes/depth versus alpha\n",
    "regs = regs[:-1]\n",
    "ccp_alphas = ccp_alphas[:-1]\n",
    "\n",
    "node_counts = [reg.tree_.node_count for reg in regs]\n",
    "depth = [reg.tree_.max_depth for reg in regs]\n",
    "fig, ax = plt.subplots(2, 1, figsize=(10, 10))\n",
    "ax[0].plot(ccp_alphas, node_counts, marker='o', drawstyle=\"steps-post\")\n",
    "ax[0].set_xlabel(\"alpha\")\n",
    "ax[0].set_ylabel(\"number of nodes\")\n",
    "ax[0].set_title(\"Number of nodes vs alpha\")\n",
    "ax[1].plot(ccp_alphas, depth, marker='o', drawstyle=\"steps-post\")\n",
    "ax[1].set_xlabel(\"alpha\")\n",
    "ax[1].set_ylabel(\"depth of tree\")\n",
    "ax[1].set_title(\"Depth vs alpha\")\n",
    "fig.tight_layout()"
   ]
  },
  {
   "cell_type": "code",
   "execution_count": 40,
   "metadata": {},
   "outputs": [
    {
     "data": {
      "image/png": "[encoded data removed]",
      "text/plain": [
       "<Figure size 720x720 with 1 Axes>"
      ]
     },
     "metadata": {
      "needs_background": "light"
     },
     "output_type": "display_data"
    }
   ],
   "source": [
    "#Accuracy vs alpha\n",
    "train_scores = [reg.score(X_train, y_train) for reg in regs]\n",
    "cv_scores = [cross_val_score(reg,X_train, y_train, cv=5, scoring=\"r2\").mean() for reg in regs]\n",
    "\n",
    "fig, ax = plt.subplots(figsize=(10, 10))\n",
    "ax.set_xlabel(\"alpha\")\n",
    "ax.set_ylabel(\"R2\")\n",
    "ax.set_title(\"R2 vs alpha for training and testing sets\")\n",
    "ax.plot(ccp_alphas, train_scores, marker='o', label=\"train\",\n",
    "        drawstyle=\"steps-post\")\n",
    "ax.plot(ccp_alphas, cv_scores, marker='o', label=\"cv\",\n",
    "        drawstyle=\"steps-post\")\n",
    "ax.legend()\n",
    "plt.show()"
   ]
  },
  {
   "cell_type": "code",
   "execution_count": 41,
   "metadata": {},
   "outputs": [
    {
     "name": "stdout",
     "output_type": "stream",
     "text": [
      "1.6585645659715903e-05\n"
     ]
    }
   ],
   "source": [
    "#best alpha\n",
    "best_alpha = ccp_alphas[np.argmax(cv_scores)]\n",
    "print(best_alpha)"
   ]
  },
  {
   "cell_type": "code",
   "execution_count": 42,
   "metadata": {},
   "outputs": [],
   "source": [
    "#6\n",
    "reg = DecisionTreeRegressor(criterion=\"mse\", random_state=0, ccp_alpha=best_alpha).fit(X_train, y_train)#fitting w best alpha"
   ]
  },
  {
   "cell_type": "code",
   "execution_count": 43,
   "metadata": {},
   "outputs": [],
   "source": [
    "#7"
   ]
  },
  {
   "cell_type": "code",
   "execution_count": 44,
   "metadata": {},
   "outputs": [
    {
     "data": {
      "text/html": [
       "<div>\n",
       "<style scoped>\n",
       "    .dataframe tbody tr th:only-of-type {\n",
       "        vertical-align: middle;\n",
       "    }\n",
       "\n",
       "    .dataframe tbody tr th {\n",
       "        vertical-align: top;\n",
       "    }\n",
       "\n",
       "    .dataframe thead th {\n",
       "        text-align: right;\n",
       "    }\n",
       "</style>\n",
       "<table border=\"1\" class=\"dataframe\">\n",
       "  <thead>\n",
       "    <tr style=\"text-align: right;\">\n",
       "      <th></th>\n",
       "      <th>1</th>\n",
       "      <th>2</th>\n",
       "      <th>3</th>\n",
       "      <th>5</th>\n",
       "      <th>6</th>\n",
       "      <th>7</th>\n",
       "      <th>8</th>\n",
       "      <th>9</th>\n",
       "    </tr>\n",
       "  </thead>\n",
       "  <tbody>\n",
       "    <tr>\n",
       "      <th>0</th>\n",
       "      <td>-0.230562</td>\n",
       "      <td>-0.243685</td>\n",
       "      <td>-0.212540</td>\n",
       "      <td>-0.244003</td>\n",
       "      <td>-0.217915</td>\n",
       "      <td>-0.175580</td>\n",
       "      <td>1.000164</td>\n",
       "      <td>-1.221282</td>\n",
       "    </tr>\n",
       "    <tr>\n",
       "      <th>1</th>\n",
       "      <td>-0.227770</td>\n",
       "      <td>-0.145917</td>\n",
       "      <td>-0.086951</td>\n",
       "      <td>-0.203125</td>\n",
       "      <td>-0.136500</td>\n",
       "      <td>-0.107524</td>\n",
       "      <td>-0.999836</td>\n",
       "      <td>-1.221282</td>\n",
       "    </tr>\n",
       "    <tr>\n",
       "      <th>2</th>\n",
       "      <td>-0.148574</td>\n",
       "      <td>0.047790</td>\n",
       "      <td>-0.124827</td>\n",
       "      <td>0.094734</td>\n",
       "      <td>1.110996</td>\n",
       "      <td>-0.175580</td>\n",
       "      <td>1.000164</td>\n",
       "      <td>-0.157353</td>\n",
       "    </tr>\n",
       "    <tr>\n",
       "      <th>3</th>\n",
       "      <td>-0.231388</td>\n",
       "      <td>-0.241614</td>\n",
       "      <td>-0.212540</td>\n",
       "      <td>-0.241273</td>\n",
       "      <td>-0.209731</td>\n",
       "      <td>-0.175580</td>\n",
       "      <td>1.000164</td>\n",
       "      <td>0.906575</td>\n",
       "    </tr>\n",
       "    <tr>\n",
       "      <th>4</th>\n",
       "      <td>-0.230428</td>\n",
       "      <td>-0.242651</td>\n",
       "      <td>-0.205774</td>\n",
       "      <td>-0.229543</td>\n",
       "      <td>-0.222529</td>\n",
       "      <td>-0.175580</td>\n",
       "      <td>1.000164</td>\n",
       "      <td>1.970504</td>\n",
       "    </tr>\n",
       "  </tbody>\n",
       "</table>\n",
       "</div>"
      ],
      "text/plain": [
       "          1         2         3         5         6         7         8  \\\n",
       "0 -0.230562 -0.243685 -0.212540 -0.244003 -0.217915 -0.175580  1.000164   \n",
       "1 -0.227770 -0.145917 -0.086951 -0.203125 -0.136500 -0.107524 -0.999836   \n",
       "2 -0.148574  0.047790 -0.124827  0.094734  1.110996 -0.175580  1.000164   \n",
       "3 -0.231388 -0.241614 -0.212540 -0.241273 -0.209731 -0.175580  1.000164   \n",
       "4 -0.230428 -0.242651 -0.205774 -0.229543 -0.222529 -0.175580  1.000164   \n",
       "\n",
       "          9  \n",
       "0 -1.221282  \n",
       "1 -1.221282  \n",
       "2 -0.157353  \n",
       "3  0.906575  \n",
       "4  1.970504  "
      ]
     },
     "metadata": {},
     "output_type": "display_data"
    },
    {
     "data": {
      "text/plain": [
       "0    1.48\n",
       "1    1.05\n",
       "2    1.27\n",
       "3    2.15\n",
       "4    1.93\n",
       "Name: Price, dtype: float64"
      ]
     },
     "metadata": {},
     "output_type": "display_data"
    }
   ],
   "source": [
    "# dropping irrelevant features in test set to match the model and reseting index \n",
    "X_test = X_test.iloc[:,1:-1]\n",
    "X_test.drop(X_test.columns[3],axis=1,inplace=True)\n",
    "X_test.reset_index(drop=True, inplace=True)\n",
    "y_test.reset_index(drop=True, inplace=True)\n",
    "display(X_test.head(), y_test.head())"
   ]
  },
  {
   "cell_type": "code",
   "execution_count": 45,
   "metadata": {},
   "outputs": [
    {
     "name": "stdout",
     "output_type": "stream",
     "text": [
      "R squared on train data set is 0.8937199162637636, R squared on test data set is 0.6442868127643475\n",
      "MSE on train data set is 0.017292019597859726, MSE on test data set is 0.0571813015185512\n"
     ]
    }
   ],
   "source": [
    "#predictions\n",
    "y_train_pred = reg.predict(X_train)\n",
    "y_test_pred = reg.predict(X_test)\n",
    "r2_train = r2_score(y_train, y_train_pred)\n",
    "r2_test = r2_score(y_test, y_test_pred)\n",
    "mse_train =  mean_squared_error(y_train, y_train_pred)\n",
    "mse_test = mean_squared_error(y_test, y_test_pred)\n",
    "print(f\"R squared on train data set is {r2_train}, R squared on test data set is {r2_test}\")\n",
    "print(f\"MSE on train data set is {mse_train}, MSE on test data set is {mse_test}\")"
   ]
  },
  {
   "cell_type": "code",
   "execution_count": 46,
   "metadata": {},
   "outputs": [],
   "source": [
    "#8\n",
    "#Scores obtained from the Multilinear regression in 2.1 part 6: \n",
    "#R squared on train data set is 0.4066804940473987, R squared on test data set is 0.4055697163113966\n",
    "#MSE on train data set is 0.09643951910200266, MSE on train data set is 0.09555534768756858\n",
    "\n",
    "#From Multilinear regression we obtained results of R squared = 0.4 (approx) \n",
    "#which indicate too simple model but very similar in accuracy on training and test set.\n",
    "#However, if we analyse the R2 scores from the decision tree, accuracy improved over twice on the train data\n",
    "#but slightly over half on test data. That indicates our model is too flexible, our tree overfit."
   ]
  },
  {
   "cell_type": "markdown",
   "metadata": {
    "id": "9JAwEJ9c78Yv"
   },
   "source": [
    " \n",
    "\n",
    "\n",
    "\n",
    "\n",
    "\n",
    "  \n",
    "\n",
    "\n",
    "### 2.4. (optional, choose either 2.3 or 2.4) (35 marks)\n",
    "  1. (6 marks)(6 marks) Convert X_train to pandas dataframe, y_train to pandas Series and reset their indices. Use __Isolation forest__ to eliminate 1% of outliers from your new X_train set (it is new after dropping irrelevant features in 5.).\n",
    "  2.  (4 marks) Fit a __random forest__ model.\n",
    "  3.  (4 marks)  Find all relevant scores on test and training sets, also include Out of Bag (OOB) score.\n",
    "  4.  (10 marks) Use __RandomizedSearchCV__ over a wide range of random forest parameters to find the optimal paramaters for random forest. (This may take some time about 20 minutes with n_iter=100 and cv=5). \n",
    "  5.   (4 marks) Fit random forest with optimal patamers.\n",
    "  6.   (3 marks) Find all relevant scores on test and training sets, also include OOB. \n",
    "  7.   (2 marks) Compare the results between the scores in 3. and 6, and make a conclusion.  \n",
    "  8.   (2 marks) Make a comment regarding over-fitting, did your forest overfit? Compare the obtained scores in part 7. with the scores obtained from the Multilinear regression in 2.1 part 6.\n",
    "\n",
    "\n",
    "\n"
   ]
  }
 ],
 "metadata": {
  "colab": {
   "collapsed_sections": [],
   "name": "Stats_Learning_Coursework_2021.ipynb",
   "provenance": []
  },
  "kernelspec": {
   "display_name": "Python 3 (ipykernel)",
   "language": "python",
   "name": "python3"
  },
  "language_info": {
   "codemirror_mode": {
    "name": "ipython",
    "version": 3
   },
   "file_extension": ".py",
   "mimetype": "text/x-python",
   "name": "python",
   "nbconvert_exporter": "python",
   "pygments_lexer": "ipython3",
   "version": "3.9.12"
  }
 },
 "nbformat": 4,
 "nbformat_minor": 1
}
